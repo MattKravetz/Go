{
 "cells": [
  {
   "cell_type": "markdown",
   "metadata": {},
   "source": [
    "### Analysis of Go.com transactions in Q1"
   ]
  },
  {
   "cell_type": "code",
   "execution_count": 1,
   "metadata": {
    "collapsed": true
   },
   "outputs": [],
   "source": [
    "import pandas as pd"
   ]
  },
  {
   "cell_type": "markdown",
   "metadata": {},
   "source": [
    "#### Read in and format data\n",
    "\n",
    "Read in the data using 3 DataFrames:\n",
    "\n",
    "* q1 - DataFrame containing daily sales data by product line for Q1 2015\n",
    "* historical_revenue - Historical Revenue Data for the past 5 quarters\n",
    "* historical_profit - Historical Profit Data for the past 5 quarters\n"
   ]
  },
  {
   "cell_type": "code",
   "execution_count": 2,
   "metadata": {
    "collapsed": false
   },
   "outputs": [],
   "source": [
    "q1 = pd.read_excel(\"go_data.xlsx\", skiprows=3, header=1).drop(\"Unnamed: 0\", axis=1)"
   ]
  },
  {
   "cell_type": "code",
   "execution_count": 3,
   "metadata": {
    "collapsed": false
   },
   "outputs": [],
   "source": [
    "def fmt(df):\n",
    "    return df.drop(\"Unnamed: 0\", axis=1).rename(columns={\"Unnamed: 1\": \"Product Line\"}).set_index(\"Product Line\").T\n",
    "\n",
    "historical_raw = pd.read_excel(\"go_data.xlsx\", sheetname=\"Historical Data\", skiprows=4, header=1)\n",
    "historical_revenue = fmt(historical_raw.iloc[1:4])\n",
    "historical_profit = fmt(historical_raw.iloc[-4:-1])"
   ]
  },
  {
   "cell_type": "markdown",
   "metadata": {},
   "source": [
    "#### Examine DataFrames"
   ]
  },
  {
   "cell_type": "code",
   "execution_count": 4,
   "metadata": {
    "collapsed": false
   },
   "outputs": [
    {
     "data": {
      "text/html": [
       "<div>\n",
       "<table border=\"1\" class=\"dataframe\">\n",
       "  <thead>\n",
       "    <tr style=\"text-align: right;\">\n",
       "      <th></th>\n",
       "      <th>Date</th>\n",
       "      <th>Revenue</th>\n",
       "      <th>Product Line</th>\n",
       "    </tr>\n",
       "  </thead>\n",
       "  <tbody>\n",
       "    <tr>\n",
       "      <th>0</th>\n",
       "      <td>2015-01-01</td>\n",
       "      <td>108632.400</td>\n",
       "      <td>Cars.go.com</td>\n",
       "    </tr>\n",
       "    <tr>\n",
       "      <th>1</th>\n",
       "      <td>2015-01-01</td>\n",
       "      <td>31494.015</td>\n",
       "      <td>Planes.go.com</td>\n",
       "    </tr>\n",
       "    <tr>\n",
       "      <th>2</th>\n",
       "      <td>2015-01-01</td>\n",
       "      <td>239376.480</td>\n",
       "      <td>Boats.go.com</td>\n",
       "    </tr>\n",
       "    <tr>\n",
       "      <th>3</th>\n",
       "      <td>2015-01-02</td>\n",
       "      <td>552064.800</td>\n",
       "      <td>Cars.go.com</td>\n",
       "    </tr>\n",
       "    <tr>\n",
       "      <th>4</th>\n",
       "      <td>2015-01-02</td>\n",
       "      <td>238344.120</td>\n",
       "      <td>Planes.go.com</td>\n",
       "    </tr>\n",
       "  </tbody>\n",
       "</table>\n",
       "</div>"
      ],
      "text/plain": [
       "        Date     Revenue   Product Line\n",
       "0 2015-01-01  108632.400    Cars.go.com\n",
       "1 2015-01-01   31494.015  Planes.go.com\n",
       "2 2015-01-01  239376.480   Boats.go.com\n",
       "3 2015-01-02  552064.800    Cars.go.com\n",
       "4 2015-01-02  238344.120  Planes.go.com"
      ]
     },
     "execution_count": 4,
     "metadata": {},
     "output_type": "execute_result"
    }
   ],
   "source": [
    "q1.head()"
   ]
  },
  {
   "cell_type": "code",
   "execution_count": 5,
   "metadata": {
    "collapsed": false
   },
   "outputs": [
    {
     "data": {
      "text/html": [
       "<div>\n",
       "<table border=\"1\" class=\"dataframe\">\n",
       "  <thead>\n",
       "    <tr style=\"text-align: right;\">\n",
       "      <th>Product Line</th>\n",
       "      <th>Cars.go.com</th>\n",
       "      <th>Planes.go.com</th>\n",
       "      <th>Boats.go.com</th>\n",
       "    </tr>\n",
       "  </thead>\n",
       "  <tbody>\n",
       "    <tr>\n",
       "      <th>Q4 2013</th>\n",
       "      <td>$6,085,063.00</td>\n",
       "      <td>$32,339,403.00</td>\n",
       "      <td>$4,329,578.00</td>\n",
       "    </tr>\n",
       "    <tr>\n",
       "      <th>Q1 2014</th>\n",
       "      <td>$5,663,582.00</td>\n",
       "      <td>$34,861,524.00</td>\n",
       "      <td>$4,418,088.00</td>\n",
       "    </tr>\n",
       "    <tr>\n",
       "      <th>Q2 2014</th>\n",
       "      <td>$5,701,994.00</td>\n",
       "      <td>$36,039,564.00</td>\n",
       "      <td>$4,657,184.00</td>\n",
       "    </tr>\n",
       "    <tr>\n",
       "      <th>Q3 2014</th>\n",
       "      <td>$5,691,910.00</td>\n",
       "      <td>$34,422,242.00</td>\n",
       "      <td>$4,597,765.00</td>\n",
       "    </tr>\n",
       "    <tr>\n",
       "      <th>Q4 2014</th>\n",
       "      <td>$5,906,352.00</td>\n",
       "      <td>$45,337,642.00</td>\n",
       "      <td>$5,437,214.00</td>\n",
       "    </tr>\n",
       "  </tbody>\n",
       "</table>\n",
       "</div>"
      ],
      "text/plain": [
       "Product Line    Cars.go.com   Planes.go.com   Boats.go.com\n",
       "Q4 2013       $6,085,063.00  $32,339,403.00  $4,329,578.00\n",
       "Q1 2014       $5,663,582.00  $34,861,524.00  $4,418,088.00\n",
       "Q2 2014       $5,701,994.00  $36,039,564.00  $4,657,184.00\n",
       "Q3 2014       $5,691,910.00  $34,422,242.00  $4,597,765.00\n",
       "Q4 2014       $5,906,352.00  $45,337,642.00  $5,437,214.00"
      ]
     },
     "execution_count": 5,
     "metadata": {},
     "output_type": "execute_result"
    }
   ],
   "source": [
    "historical_revenue.applymap(\"${:,.2f}\".format)"
   ]
  },
  {
   "cell_type": "code",
   "execution_count": 6,
   "metadata": {
    "collapsed": false
   },
   "outputs": [
    {
     "data": {
      "text/html": [
       "<div>\n",
       "<table border=\"1\" class=\"dataframe\">\n",
       "  <thead>\n",
       "    <tr style=\"text-align: right;\">\n",
       "      <th>Product Line</th>\n",
       "      <th>Cars.go.com</th>\n",
       "      <th>Planes.go.com</th>\n",
       "      <th>Boats.go.com</th>\n",
       "    </tr>\n",
       "  </thead>\n",
       "  <tbody>\n",
       "    <tr>\n",
       "      <th>Q4 2013</th>\n",
       "      <td>$608,506.30</td>\n",
       "      <td>$161,697.02</td>\n",
       "      <td>$86,591.56</td>\n",
       "    </tr>\n",
       "    <tr>\n",
       "      <th>Q1 2014</th>\n",
       "      <td>$566,358.20</td>\n",
       "      <td>$174,307.62</td>\n",
       "      <td>$88,361.76</td>\n",
       "    </tr>\n",
       "    <tr>\n",
       "      <th>Q2 2014</th>\n",
       "      <td>$570,199.40</td>\n",
       "      <td>$180,197.82</td>\n",
       "      <td>$93,143.68</td>\n",
       "    </tr>\n",
       "    <tr>\n",
       "      <th>Q3 2014</th>\n",
       "      <td>$569,191.00</td>\n",
       "      <td>$172,111.21</td>\n",
       "      <td>$91,955.30</td>\n",
       "    </tr>\n",
       "    <tr>\n",
       "      <th>Q4 2014</th>\n",
       "      <td>$590,635.20</td>\n",
       "      <td>$226,688.21</td>\n",
       "      <td>$108,744.28</td>\n",
       "    </tr>\n",
       "  </tbody>\n",
       "</table>\n",
       "</div>"
      ],
      "text/plain": [
       "Product Line  Cars.go.com Planes.go.com Boats.go.com\n",
       "Q4 2013       $608,506.30   $161,697.02   $86,591.56\n",
       "Q1 2014       $566,358.20   $174,307.62   $88,361.76\n",
       "Q2 2014       $570,199.40   $180,197.82   $93,143.68\n",
       "Q3 2014       $569,191.00   $172,111.21   $91,955.30\n",
       "Q4 2014       $590,635.20   $226,688.21  $108,744.28"
      ]
     },
     "execution_count": 6,
     "metadata": {},
     "output_type": "execute_result"
    }
   ],
   "source": [
    "historical_profit.applymap(\"${:,.2f}\".format)"
   ]
  },
  {
   "cell_type": "markdown",
   "metadata": {},
   "source": [
    "#### Examine Trends in Historical Data"
   ]
  },
  {
   "cell_type": "markdown",
   "metadata": {},
   "source": [
    "Planes has typically accounted for the lions share of revenue, but cars accounts for the majority of the profit"
   ]
  },
  {
   "cell_type": "code",
   "execution_count": 7,
   "metadata": {
    "collapsed": false
   },
   "outputs": [
    {
     "data": {
      "image/png": "[encoded data removed]",
      "text/plain": [
       "<matplotlib.figure.Figure at 0x8558320>"
      ]
     },
     "metadata": {},
     "output_type": "display_data"
    },
    {
     "data": {
      "image/png": "[encoded data removed]",
      "text/plain": [
       "<matplotlib.figure.Figure at 0xac89ac8>"
      ]
     },
     "metadata": {},
     "output_type": "display_data"
    }
   ],
   "source": [
    "import seaborn as sns\n",
    "sns.set_style(\"white\")\n",
    "%matplotlib inline\n",
    "\n",
    "historical_revenue.plot(title=\"Revenue\"), historical_profit.plot(title=\"Profit\");"
   ]
  },
  {
   "cell_type": "markdown",
   "metadata": {},
   "source": [
    "All product lines had strong fourth quarters, but Planes was the fastest growing segment but a healthy margin.  Will 2015Q1 show a reversion to the mean, or continued growth?"
   ]
  },
  {
   "cell_type": "code",
   "execution_count": 8,
   "metadata": {
    "collapsed": false
   },
   "outputs": [
    {
     "data": {
      "text/html": [
       "<div>\n",
       "<table border=\"1\" class=\"dataframe\">\n",
       "  <thead>\n",
       "    <tr style=\"text-align: right;\">\n",
       "      <th>Product Line</th>\n",
       "      <th>Cars.go.com</th>\n",
       "      <th>Planes.go.com</th>\n",
       "      <th>Boats.go.com</th>\n",
       "    </tr>\n",
       "  </thead>\n",
       "  <tbody>\n",
       "    <tr>\n",
       "      <th>Q1 2014</th>\n",
       "      <td>-6.93%</td>\n",
       "      <td>7.80%</td>\n",
       "      <td>2.04%</td>\n",
       "    </tr>\n",
       "    <tr>\n",
       "      <th>Q2 2014</th>\n",
       "      <td>0.68%</td>\n",
       "      <td>3.38%</td>\n",
       "      <td>5.41%</td>\n",
       "    </tr>\n",
       "    <tr>\n",
       "      <th>Q3 2014</th>\n",
       "      <td>-0.18%</td>\n",
       "      <td>-4.49%</td>\n",
       "      <td>-1.28%</td>\n",
       "    </tr>\n",
       "    <tr>\n",
       "      <th>Q4 2014</th>\n",
       "      <td>3.77%</td>\n",
       "      <td>31.71%</td>\n",
       "      <td>18.26%</td>\n",
       "    </tr>\n",
       "  </tbody>\n",
       "</table>\n",
       "</div>"
      ],
      "text/plain": [
       "Product Line Cars.go.com Planes.go.com Boats.go.com\n",
       "Q1 2014           -6.93%         7.80%        2.04%\n",
       "Q2 2014            0.68%         3.38%        5.41%\n",
       "Q3 2014           -0.18%        -4.49%       -1.28%\n",
       "Q4 2014            3.77%        31.71%       18.26%"
      ]
     },
     "execution_count": 8,
     "metadata": {},
     "output_type": "execute_result"
    }
   ],
   "source": [
    "historical_profit.pct_change().applymap(\"{:.2%}\".format).iloc[1:]"
   ]
  },
  {
   "cell_type": "markdown",
   "metadata": {},
   "source": [
    "Profit margins are constant.  Assuming that this holds true for Q1, this can be used to calculate profits from Q1 sales data."
   ]
  },
  {
   "cell_type": "code",
   "execution_count": 9,
   "metadata": {
    "collapsed": false
   },
   "outputs": [
    {
     "data": {
      "text/html": [
       "<div>\n",
       "<table border=\"1\" class=\"dataframe\">\n",
       "  <thead>\n",
       "    <tr style=\"text-align: right;\">\n",
       "      <th>Product Line</th>\n",
       "      <th>Cars.go.com</th>\n",
       "      <th>Planes.go.com</th>\n",
       "      <th>Boats.go.com</th>\n",
       "    </tr>\n",
       "  </thead>\n",
       "  <tbody>\n",
       "    <tr>\n",
       "      <th>Q4 2013</th>\n",
       "      <td>10.0</td>\n",
       "      <td>200.0</td>\n",
       "      <td>50.0</td>\n",
       "    </tr>\n",
       "    <tr>\n",
       "      <th>Q1 2014</th>\n",
       "      <td>10.0</td>\n",
       "      <td>200.0</td>\n",
       "      <td>50.0</td>\n",
       "    </tr>\n",
       "    <tr>\n",
       "      <th>Q2 2014</th>\n",
       "      <td>10.0</td>\n",
       "      <td>200.0</td>\n",
       "      <td>50.0</td>\n",
       "    </tr>\n",
       "    <tr>\n",
       "      <th>Q3 2014</th>\n",
       "      <td>10.0</td>\n",
       "      <td>200.0</td>\n",
       "      <td>50.0</td>\n",
       "    </tr>\n",
       "    <tr>\n",
       "      <th>Q4 2014</th>\n",
       "      <td>10.0</td>\n",
       "      <td>200.0</td>\n",
       "      <td>50.0</td>\n",
       "    </tr>\n",
       "  </tbody>\n",
       "</table>\n",
       "</div>"
      ],
      "text/plain": [
       "Product Line  Cars.go.com  Planes.go.com  Boats.go.com\n",
       "Q4 2013              10.0          200.0          50.0\n",
       "Q1 2014              10.0          200.0          50.0\n",
       "Q2 2014              10.0          200.0          50.0\n",
       "Q3 2014              10.0          200.0          50.0\n",
       "Q4 2014              10.0          200.0          50.0"
      ]
     },
     "execution_count": 9,
     "metadata": {},
     "output_type": "execute_result"
    }
   ],
   "source": [
    "profit_margin = historical_revenue / historical_profit\n",
    "profit_margin"
   ]
  },
  {
   "cell_type": "markdown",
   "metadata": {},
   "source": [
    "#### Explore Summary Statistics for Q1"
   ]
  },
  {
   "cell_type": "code",
   "execution_count": 10,
   "metadata": {
    "collapsed": true
   },
   "outputs": [],
   "source": [
    "grouper = q1.groupby(\"Product Line\")"
   ]
  },
  {
   "cell_type": "markdown",
   "metadata": {},
   "source": [
    "Planes.go.com accounts for the lions share of revenue.  Boats.go.com contributes significantly less revenue than the other two segments"
   ]
  },
  {
   "cell_type": "code",
   "execution_count": 11,
   "metadata": {
    "collapsed": false
   },
   "outputs": [
    {
     "data": {
      "text/html": [
       "<div>\n",
       "<table border=\"1\" class=\"dataframe\">\n",
       "  <thead>\n",
       "    <tr style=\"text-align: right;\">\n",
       "      <th></th>\n",
       "      <th>Revenue</th>\n",
       "      <th>%</th>\n",
       "    </tr>\n",
       "    <tr>\n",
       "      <th>Product Line</th>\n",
       "      <th></th>\n",
       "      <th></th>\n",
       "    </tr>\n",
       "  </thead>\n",
       "  <tbody>\n",
       "    <tr>\n",
       "      <th>Boats.go.com</th>\n",
       "      <td>4736347.68</td>\n",
       "      <td>0.087672</td>\n",
       "    </tr>\n",
       "    <tr>\n",
       "      <th>Cars.go.com</th>\n",
       "      <td>16757524.80</td>\n",
       "      <td>0.310189</td>\n",
       "    </tr>\n",
       "    <tr>\n",
       "      <th>Planes.go.com</th>\n",
       "      <td>32529742.56</td>\n",
       "      <td>0.602139</td>\n",
       "    </tr>\n",
       "    <tr>\n",
       "      <th>Total</th>\n",
       "      <td>54023615.04</td>\n",
       "      <td>1.000000</td>\n",
       "    </tr>\n",
       "  </tbody>\n",
       "</table>\n",
       "</div>"
      ],
      "text/plain": [
       "                   Revenue         %\n",
       "Product Line                        \n",
       "Boats.go.com    4736347.68  0.087672\n",
       "Cars.go.com    16757524.80  0.310189\n",
       "Planes.go.com  32529742.56  0.602139\n",
       "Total          54023615.04  1.000000"
      ]
     },
     "execution_count": 11,
     "metadata": {},
     "output_type": "execute_result"
    }
   ],
   "source": [
    "total_revenue = grouper.sum()\n",
    "total_revenue.loc['Total'] = total_revenue.sum()\n",
    "total_revenue['%'] = total_revenue / total_revenue.loc['Total']\n",
    "total_revenue"
   ]
  },
  {
   "cell_type": "markdown",
   "metadata": {},
   "source": [
    "Boats.com also has 14 fewer records than Cars and Planes. The other two segments appear to have complete records. What is causing this discrepency, and what impact does it have on the profitability of segment?"
   ]
  },
  {
   "cell_type": "code",
   "execution_count": 12,
   "metadata": {
    "collapsed": false
   },
   "outputs": [
    {
     "data": {
      "text/html": [
       "<div>\n",
       "<table border=\"1\" class=\"dataframe\">\n",
       "  <thead>\n",
       "    <tr style=\"text-align: right;\">\n",
       "      <th></th>\n",
       "      <th>count</th>\n",
       "      <th>mean</th>\n",
       "      <th>std</th>\n",
       "      <th>min</th>\n",
       "      <th>25%</th>\n",
       "      <th>50%</th>\n",
       "      <th>75%</th>\n",
       "      <th>max</th>\n",
       "    </tr>\n",
       "    <tr>\n",
       "      <th>Product Line</th>\n",
       "      <th></th>\n",
       "      <th></th>\n",
       "      <th></th>\n",
       "      <th></th>\n",
       "      <th></th>\n",
       "      <th></th>\n",
       "      <th></th>\n",
       "      <th></th>\n",
       "    </tr>\n",
       "  </thead>\n",
       "  <tbody>\n",
       "    <tr>\n",
       "      <th>Boats.go.com</th>\n",
       "      <td>76.00</td>\n",
       "      <td>62,320.36</td>\n",
       "      <td>67,050.57</td>\n",
       "      <td>251.04</td>\n",
       "      <td>21,141.36</td>\n",
       "      <td>36,744.72</td>\n",
       "      <td>59,522.28</td>\n",
       "      <td>239,376.48</td>\n",
       "    </tr>\n",
       "    <tr>\n",
       "      <th>Cars.go.com</th>\n",
       "      <td>90.00</td>\n",
       "      <td>186,194.72</td>\n",
       "      <td>158,793.62</td>\n",
       "      <td>3,790.80</td>\n",
       "      <td>75,800.40</td>\n",
       "      <td>111,863.40</td>\n",
       "      <td>285,843.60</td>\n",
       "      <td>571,988.40</td>\n",
       "    </tr>\n",
       "    <tr>\n",
       "      <th>Planes.go.com</th>\n",
       "      <td>90.00</td>\n",
       "      <td>361,441.58</td>\n",
       "      <td>351,150.91</td>\n",
       "      <td>6,999.61</td>\n",
       "      <td>118,879.35</td>\n",
       "      <td>214,161.57</td>\n",
       "      <td>605,310.77</td>\n",
       "      <td>1,395,072.31</td>\n",
       "    </tr>\n",
       "  </tbody>\n",
       "</table>\n",
       "</div>"
      ],
      "text/plain": [
       "               count        mean         std       min         25%  \\\n",
       "Product Line                                                         \n",
       "Boats.go.com   76.00   62,320.36   67,050.57    251.04   21,141.36   \n",
       "Cars.go.com    90.00  186,194.72  158,793.62  3,790.80   75,800.40   \n",
       "Planes.go.com  90.00  361,441.58  351,150.91  6,999.61  118,879.35   \n",
       "\n",
       "                      50%         75%           max  \n",
       "Product Line                                         \n",
       "Boats.go.com    36,744.72   59,522.28    239,376.48  \n",
       "Cars.go.com    111,863.40  285,843.60    571,988.40  \n",
       "Planes.go.com  214,161.57  605,310.77  1,395,072.31  "
      ]
     },
     "execution_count": 12,
     "metadata": {},
     "output_type": "execute_result"
    }
   ],
   "source": [
    "summary = grouper.describe().unstack()\n",
    "summary.columns = summary.columns.droplevel()\n",
    "summary.applymap(\"{:,.2f}\".format)"
   ]
  },
  {
   "cell_type": "markdown",
   "metadata": {},
   "source": [
    "Verify that Cars and Planes have non-zero records for every day in the quarter."
   ]
  },
  {
   "cell_type": "code",
   "execution_count": 13,
   "metadata": {
    "collapsed": false
   },
   "outputs": [],
   "source": [
    "df = q1.copy().set_index(\"Date\")\n",
    "df[\"Has Sales\"] = df[\"Revenue\"].apply(lambda x: 1 if x>0 else 0)"
   ]
  },
  {
   "cell_type": "code",
   "execution_count": 14,
   "metadata": {
    "collapsed": false
   },
   "outputs": [
    {
     "data": {
      "text/plain": [
       "Product Line\n",
       "Boats.go.com     76\n",
       "Cars.go.com      90\n",
       "Planes.go.com    90\n",
       "Name: Has Sales, dtype: int64"
      ]
     },
     "execution_count": 14,
     "metadata": {},
     "output_type": "execute_result"
    }
   ],
   "source": [
    "df.groupby(\"Product Line\")[\"Has Sales\"].sum()"
   ]
  },
  {
   "cell_type": "markdown",
   "metadata": {},
   "source": [
    "Data is missing for the Boats segment between 2/7/16 and 2/20/16.  Either the website not operating during this period, or is this a data quality issue.  If the data is missing, revenue figures are likely understated in this analysis."
   ]
  },
  {
   "cell_type": "code",
   "execution_count": 15,
   "metadata": {
    "collapsed": false
   },
   "outputs": [
    {
     "data": {
      "text/plain": [
       "{Timestamp('2015-02-07 00:00:00'),\n",
       " Timestamp('2015-02-08 00:00:00'),\n",
       " Timestamp('2015-02-09 00:00:00'),\n",
       " Timestamp('2015-02-10 00:00:00'),\n",
       " Timestamp('2015-02-11 00:00:00'),\n",
       " Timestamp('2015-02-12 00:00:00'),\n",
       " Timestamp('2015-02-13 00:00:00'),\n",
       " Timestamp('2015-02-14 00:00:00'),\n",
       " Timestamp('2015-02-15 00:00:00'),\n",
       " Timestamp('2015-02-16 00:00:00'),\n",
       " Timestamp('2015-02-17 00:00:00'),\n",
       " Timestamp('2015-02-18 00:00:00'),\n",
       " Timestamp('2015-02-19 00:00:00'),\n",
       " Timestamp('2015-02-20 00:00:00')}"
      ]
     },
     "execution_count": 15,
     "metadata": {},
     "output_type": "execute_result"
    }
   ],
   "source": [
    "set(df[df[\"Product Line\"] == \"Cars.go.com\"].index) - set(df[df[\"Product Line\"] == \"Boats.go.com\"].index)"
   ]
  },
  {
   "cell_type": "markdown",
   "metadata": {},
   "source": [
    "#### Comparison of 2015 Q1 to Historical Data"
   ]
  },
  {
   "cell_type": "markdown",
   "metadata": {},
   "source": [
    "Update historical_revenue DataFrame to include Q1 revenues"
   ]
  },
  {
   "cell_type": "code",
   "execution_count": 16,
   "metadata": {
    "collapsed": false
   },
   "outputs": [
    {
     "data": {
      "text/html": [
       "<div>\n",
       "<table border=\"1\" class=\"dataframe\">\n",
       "  <thead>\n",
       "    <tr style=\"text-align: right;\">\n",
       "      <th>Product Line</th>\n",
       "      <th>Cars.go.com</th>\n",
       "      <th>Planes.go.com</th>\n",
       "      <th>Boats.go.com</th>\n",
       "    </tr>\n",
       "  </thead>\n",
       "  <tbody>\n",
       "    <tr>\n",
       "      <th>Q4 2013</th>\n",
       "      <td>$6,085,063.00</td>\n",
       "      <td>$32,339,403.00</td>\n",
       "      <td>$4,329,578.00</td>\n",
       "    </tr>\n",
       "    <tr>\n",
       "      <th>Q1 2014</th>\n",
       "      <td>$5,663,582.00</td>\n",
       "      <td>$34,861,524.00</td>\n",
       "      <td>$4,418,088.00</td>\n",
       "    </tr>\n",
       "    <tr>\n",
       "      <th>Q2 2014</th>\n",
       "      <td>$5,701,994.00</td>\n",
       "      <td>$36,039,564.00</td>\n",
       "      <td>$4,657,184.00</td>\n",
       "    </tr>\n",
       "    <tr>\n",
       "      <th>Q3 2014</th>\n",
       "      <td>$5,691,910.00</td>\n",
       "      <td>$34,422,242.00</td>\n",
       "      <td>$4,597,765.00</td>\n",
       "    </tr>\n",
       "    <tr>\n",
       "      <th>Q4 2014</th>\n",
       "      <td>$5,906,352.00</td>\n",
       "      <td>$45,337,642.00</td>\n",
       "      <td>$5,437,214.00</td>\n",
       "    </tr>\n",
       "    <tr>\n",
       "      <th>Q1 2015</th>\n",
       "      <td>$16,757,524.80</td>\n",
       "      <td>$32,529,742.56</td>\n",
       "      <td>$4,736,347.68</td>\n",
       "    </tr>\n",
       "  </tbody>\n",
       "</table>\n",
       "</div>"
      ],
      "text/plain": [
       "Product Line     Cars.go.com   Planes.go.com   Boats.go.com\n",
       "Q4 2013        $6,085,063.00  $32,339,403.00  $4,329,578.00\n",
       "Q1 2014        $5,663,582.00  $34,861,524.00  $4,418,088.00\n",
       "Q2 2014        $5,701,994.00  $36,039,564.00  $4,657,184.00\n",
       "Q3 2014        $5,691,910.00  $34,422,242.00  $4,597,765.00\n",
       "Q4 2014        $5,906,352.00  $45,337,642.00  $5,437,214.00\n",
       "Q1 2015       $16,757,524.80  $32,529,742.56  $4,736,347.68"
      ]
     },
     "execution_count": 16,
     "metadata": {},
     "output_type": "execute_result"
    }
   ],
   "source": [
    "historical_revenue.loc[\"Q1 2015\"] = total_revenue['Revenue']\n",
    "historical_revenue.applymap(\"${:,.2f}\".format)"
   ]
  },
  {
   "cell_type": "markdown",
   "metadata": {},
   "source": [
    "Because profit margins have been constant, we can use the historical data to map Q1 revenue to profit"
   ]
  },
  {
   "cell_type": "code",
   "execution_count": 17,
   "metadata": {
    "collapsed": false
   },
   "outputs": [],
   "source": [
    "historical_profit = historical_revenue / profit_margin.values[0]\n",
    "historical_profit[\"Total\"] = historical_profit.T.sum().T"
   ]
  },
  {
   "cell_type": "code",
   "execution_count": 18,
   "metadata": {
    "collapsed": false
   },
   "outputs": [
    {
     "data": {
      "text/html": [
       "<div>\n",
       "<table border=\"1\" class=\"dataframe\">\n",
       "  <thead>\n",
       "    <tr style=\"text-align: right;\">\n",
       "      <th>Product Line</th>\n",
       "      <th>Cars.go.com</th>\n",
       "      <th>Planes.go.com</th>\n",
       "      <th>Boats.go.com</th>\n",
       "      <th>Total</th>\n",
       "    </tr>\n",
       "  </thead>\n",
       "  <tbody>\n",
       "    <tr>\n",
       "      <th>Q4 2013</th>\n",
       "      <td>$608,506.30</td>\n",
       "      <td>$161,697.02</td>\n",
       "      <td>$86,591.56</td>\n",
       "      <td>$856,794.88</td>\n",
       "    </tr>\n",
       "    <tr>\n",
       "      <th>Q1 2014</th>\n",
       "      <td>$566,358.20</td>\n",
       "      <td>$174,307.62</td>\n",
       "      <td>$88,361.76</td>\n",
       "      <td>$829,027.58</td>\n",
       "    </tr>\n",
       "    <tr>\n",
       "      <th>Q2 2014</th>\n",
       "      <td>$570,199.40</td>\n",
       "      <td>$180,197.82</td>\n",
       "      <td>$93,143.68</td>\n",
       "      <td>$843,540.90</td>\n",
       "    </tr>\n",
       "    <tr>\n",
       "      <th>Q3 2014</th>\n",
       "      <td>$569,191.00</td>\n",
       "      <td>$172,111.21</td>\n",
       "      <td>$91,955.30</td>\n",
       "      <td>$833,257.51</td>\n",
       "    </tr>\n",
       "    <tr>\n",
       "      <th>Q4 2014</th>\n",
       "      <td>$590,635.20</td>\n",
       "      <td>$226,688.21</td>\n",
       "      <td>$108,744.28</td>\n",
       "      <td>$926,067.69</td>\n",
       "    </tr>\n",
       "    <tr>\n",
       "      <th>Q1 2015</th>\n",
       "      <td>$1,675,752.48</td>\n",
       "      <td>$162,648.71</td>\n",
       "      <td>$94,726.95</td>\n",
       "      <td>$1,933,128.15</td>\n",
       "    </tr>\n",
       "  </tbody>\n",
       "</table>\n",
       "</div>"
      ],
      "text/plain": [
       "Product Line    Cars.go.com Planes.go.com Boats.go.com          Total\n",
       "Q4 2013         $608,506.30   $161,697.02   $86,591.56    $856,794.88\n",
       "Q1 2014         $566,358.20   $174,307.62   $88,361.76    $829,027.58\n",
       "Q2 2014         $570,199.40   $180,197.82   $93,143.68    $843,540.90\n",
       "Q3 2014         $569,191.00   $172,111.21   $91,955.30    $833,257.51\n",
       "Q4 2014         $590,635.20   $226,688.21  $108,744.28    $926,067.69\n",
       "Q1 2015       $1,675,752.48   $162,648.71   $94,726.95  $1,933,128.15"
      ]
     },
     "execution_count": 18,
     "metadata": {},
     "output_type": "execute_result"
    }
   ],
   "source": [
    "historical_profit.applymap(\"${:,.2f}\".format)"
   ]
  },
  {
   "cell_type": "markdown",
   "metadata": {},
   "source": [
    "Examine profit share by segment"
   ]
  },
  {
   "cell_type": "code",
   "execution_count": 19,
   "metadata": {
    "collapsed": false
   },
   "outputs": [
    {
     "data": {
      "text/html": [
       "<div>\n",
       "<table border=\"1\" class=\"dataframe\">\n",
       "  <thead>\n",
       "    <tr style=\"text-align: right;\">\n",
       "      <th>Product Line</th>\n",
       "      <th>Cars.go.com</th>\n",
       "      <th>Planes.go.com</th>\n",
       "      <th>Boats.go.com</th>\n",
       "      <th>Total</th>\n",
       "    </tr>\n",
       "  </thead>\n",
       "  <tbody>\n",
       "    <tr>\n",
       "      <th>Q4 2013</th>\n",
       "      <td>71.02%</td>\n",
       "      <td>18.87%</td>\n",
       "      <td>10.11%</td>\n",
       "      <td>100.00%</td>\n",
       "    </tr>\n",
       "    <tr>\n",
       "      <th>Q1 2014</th>\n",
       "      <td>68.32%</td>\n",
       "      <td>21.03%</td>\n",
       "      <td>10.66%</td>\n",
       "      <td>100.00%</td>\n",
       "    </tr>\n",
       "    <tr>\n",
       "      <th>Q2 2014</th>\n",
       "      <td>67.60%</td>\n",
       "      <td>21.36%</td>\n",
       "      <td>11.04%</td>\n",
       "      <td>100.00%</td>\n",
       "    </tr>\n",
       "    <tr>\n",
       "      <th>Q3 2014</th>\n",
       "      <td>68.31%</td>\n",
       "      <td>20.66%</td>\n",
       "      <td>11.04%</td>\n",
       "      <td>100.00%</td>\n",
       "    </tr>\n",
       "    <tr>\n",
       "      <th>Q4 2014</th>\n",
       "      <td>63.78%</td>\n",
       "      <td>24.48%</td>\n",
       "      <td>11.74%</td>\n",
       "      <td>100.00%</td>\n",
       "    </tr>\n",
       "    <tr>\n",
       "      <th>Q1 2015</th>\n",
       "      <td>86.69%</td>\n",
       "      <td>8.41%</td>\n",
       "      <td>4.90%</td>\n",
       "      <td>100.00%</td>\n",
       "    </tr>\n",
       "  </tbody>\n",
       "</table>\n",
       "</div>"
      ],
      "text/plain": [
       "Product Line Cars.go.com Planes.go.com Boats.go.com    Total\n",
       "Q4 2013           71.02%        18.87%       10.11%  100.00%\n",
       "Q1 2014           68.32%        21.03%       10.66%  100.00%\n",
       "Q2 2014           67.60%        21.36%       11.04%  100.00%\n",
       "Q3 2014           68.31%        20.66%       11.04%  100.00%\n",
       "Q4 2014           63.78%        24.48%       11.74%  100.00%\n",
       "Q1 2015           86.69%         8.41%        4.90%  100.00%"
      ]
     },
     "execution_count": 19,
     "metadata": {},
     "output_type": "execute_result"
    }
   ],
   "source": [
    "profit_share = historical_profit.apply(lambda col: col / historical_profit[\"Total\"])\n",
    "profit_share.applymap(\"{:.2%}\".format)"
   ]
  },
  {
   "cell_type": "markdown",
   "metadata": {},
   "source": [
    "Examine trends in profit growth by segment"
   ]
  },
  {
   "cell_type": "code",
   "execution_count": 20,
   "metadata": {
    "collapsed": false
   },
   "outputs": [
    {
     "data": {
      "text/html": [
       "<div>\n",
       "<table border=\"1\" class=\"dataframe\">\n",
       "  <thead>\n",
       "    <tr style=\"text-align: right;\">\n",
       "      <th>Product Line</th>\n",
       "      <th>Cars.go.com</th>\n",
       "      <th>Planes.go.com</th>\n",
       "      <th>Boats.go.com</th>\n",
       "      <th>Total</th>\n",
       "    </tr>\n",
       "  </thead>\n",
       "  <tbody>\n",
       "    <tr>\n",
       "      <th>Q1 2014</th>\n",
       "      <td>-6.93%</td>\n",
       "      <td>7.80%</td>\n",
       "      <td>2.04%</td>\n",
       "      <td>-3.24%</td>\n",
       "    </tr>\n",
       "    <tr>\n",
       "      <th>Q2 2014</th>\n",
       "      <td>0.68%</td>\n",
       "      <td>3.38%</td>\n",
       "      <td>5.41%</td>\n",
       "      <td>1.75%</td>\n",
       "    </tr>\n",
       "    <tr>\n",
       "      <th>Q3 2014</th>\n",
       "      <td>-0.18%</td>\n",
       "      <td>-4.49%</td>\n",
       "      <td>-1.28%</td>\n",
       "      <td>-1.22%</td>\n",
       "    </tr>\n",
       "    <tr>\n",
       "      <th>Q4 2014</th>\n",
       "      <td>3.77%</td>\n",
       "      <td>31.71%</td>\n",
       "      <td>18.26%</td>\n",
       "      <td>11.14%</td>\n",
       "    </tr>\n",
       "    <tr>\n",
       "      <th>Q1 2015</th>\n",
       "      <td>183.72%</td>\n",
       "      <td>-28.25%</td>\n",
       "      <td>-12.89%</td>\n",
       "      <td>108.75%</td>\n",
       "    </tr>\n",
       "  </tbody>\n",
       "</table>\n",
       "</div>"
      ],
      "text/plain": [
       "Product Line Cars.go.com Planes.go.com Boats.go.com    Total\n",
       "Q1 2014           -6.93%         7.80%        2.04%   -3.24%\n",
       "Q2 2014            0.68%         3.38%        5.41%    1.75%\n",
       "Q3 2014           -0.18%        -4.49%       -1.28%   -1.22%\n",
       "Q4 2014            3.77%        31.71%       18.26%   11.14%\n",
       "Q1 2015          183.72%       -28.25%      -12.89%  108.75%"
      ]
     },
     "execution_count": 20,
     "metadata": {},
     "output_type": "execute_result"
    }
   ],
   "source": [
    "historical_profit.pct_change().applymap(\"{:.2%}\".format).iloc[1:]"
   ]
  },
  {
   "cell_type": "markdown",
   "metadata": {},
   "source": [
    "Assessment: Strong Buy.\n",
    "\n",
    "Go.com is expected to have a breakout quarter in Q1 2015, with profits increasing 108.75% from \\$926,067 to \\$1,933,128.15 quarter-over-quarter. This was primarily driven by the the Cars.go.com segment, which increased sales by 183.72% quarter-over-quarter, from \\$590,635.20 in Q4 2014 to \\$1,675,752.48.  \n",
    "\n",
    "The Planes.go.com and Boats.go.com segments showed weaker performance, with sales declining by 28.25% and 12.89% respectively.  The available data contained a 14-day gap in Boats.go.com sales in February. This warrants further investigation, but is unlikely to materially affect the \"Strong Buy\" assessment, as Boats.go.com historically accounts for roughly 10% of Go.com's total profit.\n",
    "\n",
    "Analysis: https://nbviewer.jupyter.org/github/MattKravetz/Go/blob/master/Go%20Analysis.ipynb"
   ]
  },
  {
   "cell_type": "code",
   "execution_count": null,
   "metadata": {
    "collapsed": true
   },
   "outputs": [],
   "source": []
  }
 ],
 "metadata": {
  "anaconda-cloud": {},
  "kernelspec": {
   "display_name": "Python 3",
   "language": "python",
   "name": "python3"
  },
  "language_info": {
   "codemirror_mode": {
    "name": "ipython",
    "version": 3
   },
   "file_extension": ".py",
   "mimetype": "text/x-python",
   "name": "python",
   "nbconvert_exporter": "python",
   "pygments_lexer": "ipython3",
   "version": "3.5.2"
  }
 },
 "nbformat": 4,
 "nbformat_minor": 0
}
